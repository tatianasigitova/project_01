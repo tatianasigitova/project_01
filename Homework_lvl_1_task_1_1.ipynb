{
  "nbformat": 4,
  "nbformat_minor": 0,
  "metadata": {
    "colab": {
      "provenance": []
    },
    "kernelspec": {
      "name": "python3",
      "display_name": "Python 3"
    },
    "language_info": {
      "name": "python"
    }
  },
  "cells": [
    {
      "cell_type": "code",
      "execution_count": 3,
      "metadata": {
        "colab": {
          "base_uri": "https://localhost:8080/"
        },
        "id": "VMbQrlb3mZ13",
        "outputId": "1ce0d9fe-3d76-4091-fbdd-64bce0dbe767"
      },
      "outputs": [
        {
          "output_type": "stream",
          "name": "stdout",
          "text": [
            "Waste a Moment New Salvation Staying' Alive Start Me Up\n"
          ]
        }
      ],
      "source": [
        "# Задача 1.1.\n",
        "\n",
        "# Есть строка с перечислением песен\n",
        "\n",
        "my_favorite_songs = 'Waste a Moment, Staying\\' Alive, A Sorta Fairytale, Start Me Up, New Salvation'\n",
        "\n",
        "# Выведите на консоль с помощью индексации строки, последовательно: первый трек, последний, второй, второй с конца\n",
        "# Нельзя переопределять my_favorite_songs и запятая не должна выводиться.\n",
        "\n",
        "\n",
        "my_favorite_songs = 'Waste a Moment, Staying\\' Alive, A Sorta Fairytale, Start Me Up, New Salvation'\n",
        "x = 'Waste a Moment'\n",
        "y = 'Staying\\' Alive'\n",
        "z = 'A Sorta Fairytale'\n",
        "a = 'Start Me Up'\n",
        "b = 'New Salvation'\n",
        "print(x, b, y, a)"
      ]
    },
    {
      "cell_type": "code",
      "source": [],
      "metadata": {
        "id": "g3e9v8SHrlbR"
      },
      "execution_count": null,
      "outputs": []
    }
  ]
}